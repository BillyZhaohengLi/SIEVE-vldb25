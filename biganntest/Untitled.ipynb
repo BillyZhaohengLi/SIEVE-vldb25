{
 "cells": [
  {
   "cell_type": "code",
   "execution_count": 1,
   "id": "a52b582a-f7f6-4d6c-a6cc-18ff06142c36",
   "metadata": {},
   "outputs": [],
   "source": [
    "import h5py\n",
    "filename1 = \"results/neurips23/filter/yfcc-10M/10/mymethod/_200_max_degree_12_cluster_size_5000_cutoff_10000_max_iter_10_weight_classes_100000_400000_beam_widths_40_40_40_target_points_15000_tiny_cutoff_60000.hdf5\"\n",
    "filename2 = \"results/neurips23/filter/yfcc-10M/10/parlayivf/_200_max_degree_12_cluster_size_5000_cutoff_10000_max_iter_10_weight_classes_100000_400000_beam_widths_40_40_40_target_points_15000_tiny_cutoff_60000.hdf5\"\n",
    "filename3 = \"results/neurips23/filter/random-filter-s/10/mymethod/_200_max_degree_12_cluster_size_5000_cutoff_10000_max_iter_10_weight_classes_100000_400000_beam_widths_70_70_70_target_points_15000_tiny_cutoff_60000.hdf5\"\n",
    "filename4 = \"results/neurips23/filter/random-filter-s/10/parlayivf/_200_max_degree_12_cluster_size_5000_cutoff_10000_max_iter_10_weight_classes_100000_400000_beam_widths_70_70_70_target_points_15000_tiny_cutoff_60000.hdf5\""
   ]
  },
  {
   "cell_type": "code",
   "execution_count": 2,
   "id": "b47593da-cd2c-4c23-86bd-5b8afe59b2d7",
   "metadata": {},
   "outputs": [],
   "source": [
    "def print_stuff(filename, key):\n",
    "    with h5py.File(filename, \"r\") as f:\n",
    "        # Print all root level object names (aka keys) \n",
    "        # these can be group or dataset names \n",
    "        print(\"Keys: %s\" % f.keys())\n",
    "        # get first object name/key; may or may NOT be a group\n",
    "        a_group_key = list(f.keys())[key]\n",
    "    \n",
    "        # get the object type for a_group_key: usually group or dataset\n",
    "        print(type(f[a_group_key])) \n",
    "    \n",
    "        # If a_group_key is a group name, \n",
    "        # this gets the object names in the group and returns as a list\n",
    "        data = list(f[a_group_key])\n",
    "        # print(type(data[0]))\n",
    "    \n",
    "        # # If a_group_key is a dataset name, \n",
    "        # # this gets the dataset values and returns as a list\n",
    "        # data = list(f[a_group_key])\n",
    "        # # preferred methods to get dataset values:\n",
    "        ds_obj = f[a_group_key]      # returns as a h5py dataset object\n",
    "        for i in range(10):\n",
    "            print(ds_obj[i,:])"
   ]
  },
  {
   "cell_type": "code",
   "execution_count": 3,
   "id": "1658edbf-2a4f-46c9-9f34-5e11d27d6f6a",
   "metadata": {},
   "outputs": [],
   "source": [
    "def print_metric(filename, key):\n",
    "    with h5py.File(filename, \"r\") as f:\n",
    "        # Print all root level object names (aka keys) \n",
    "        # these can be group or dataset names \n",
    "        print(\"Keys: %s\" % f.keys())\n",
    "        # get first object name/key; may or may NOT be a group\n",
    "        a_group_key = list(f.keys())[key]\n",
    "    \n",
    "        # get the object type for a_group_key: usually group or dataset\n",
    "        print(type(f[a_group_key])) \n",
    "    \n",
    "        # If a_group_key is a group name, \n",
    "        # this gets the object names in the group and returns as a list\n",
    "        data = list(f[a_group_key])\n",
    "        # print(type(data[0]))\n",
    "    \n",
    "        # # If a_group_key is a dataset name, \n",
    "        # # this gets the dataset values and returns as a list\n",
    "        # data = list(f[a_group_key])\n",
    "        # # preferred methods to get dataset values:\n",
    "        ds_obj = f[a_group_key]      # returns as a h5py dataset object\n",
    "        print(ds_obj['knn']['recalls'][:100])"
   ]
  },
  {
   "cell_type": "code",
   "execution_count": 7,
   "id": "ac53fe0c-9eed-4d45-8fa2-192c83a2a362",
   "metadata": {},
   "outputs": [
    {
     "name": "stdout",
     "output_type": "stream",
     "text": [
      "Keys: <KeysViewHDF5 ['metrics', 'neighbors']>\n",
      "<class 'h5py._hl.group.Group'>\n",
      "[0. 0. 1. 0. 0. 0. 0. 0. 0. 0. 0. 0. 0. 0. 0. 0. 0. 0. 0. 0. 1. 0. 0. 0.\n",
      " 0. 0. 0. 0. 1. 0. 0. 0. 0. 0. 0. 0. 0. 0. 0. 0. 0. 0. 0. 0. 0. 0. 0. 0.\n",
      " 0. 0. 0. 1. 0. 0. 0. 0. 0. 3. 0. 0. 0. 0. 0. 0. 0. 0. 0. 0. 0. 0. 0. 0.\n",
      " 0. 0. 0. 0. 1. 0. 0. 0. 0. 0. 0. 0. 0. 0. 0. 0. 0. 0. 0. 0. 0. 0. 0. 0.\n",
      " 0. 0. 0. 0.]\n",
      "Keys: <KeysViewHDF5 ['metrics', 'neighbors']>\n",
      "<class 'h5py._hl.dataset.Dataset'>\n",
      "[1948575 5022005 5022004 1553310 6764022 7814524 1316433 2226673 1364092\n",
      " 2587618]\n",
      "[7569760 6236902 6535198 6044291 8958617 2967135 9278458 4653676 6275520\n",
      " 9370185]\n",
      "[7402088 8126572 2840803 5381089 6382996 2456147 7329183  450152 8028610\n",
      " 1433058]\n",
      "[9365939 9329109 2355406 9057602 8280368 7126843 5870354 8996264 7224342\n",
      " 7011171]\n",
      "[3399564 8029294 8029293 1485269  938362 3284358 8960058 2606935 6974238\n",
      " 9824057]\n",
      "[ 298151  298150   17006  701817 8167854 6149522  526096 9977673 8096016\n",
      " 8112741]\n",
      "[9507845 9507844 4267732 8382205 7729630 7332462  801699 6277988 1553310\n",
      " 7395626]\n",
      "[7985176 2524867 1605673 9690094 6963123 9144782 1191754  174438 3720426\n",
      "   27495]\n",
      "[7974936 9696466 6612330  818932 9871974 7300956 3009488 6979945 4989688\n",
      " 9587823]\n",
      "[9604449 1917357 8718337 9845059 6306855 7223113 2571415 3836999 8747745\n",
      " 1605815]\n",
      "Keys: <KeysViewHDF5 ['metrics', 'neighbors']>\n",
      "<class 'h5py._hl.dataset.Dataset'>\n",
      "[1082296 9512216 6902774 3121342 5520822 3912739 4017013 7393979 9198881\n",
      "   96298]\n",
      "[6498310 4460929 4027634 7080361  708200 7679347 6333906 8490773 9236073\n",
      " 6857190]\n",
      "[9159437  804219 7956796 6091598 6350039 7735703 2520772 5381089 7557098\n",
      " 8291732]\n",
      "[7918400 8823128 7969502 2541536 6067613 6748082 7118015 7994220 6181795\n",
      " 7033485]\n",
      "[6253018 7930428 4572672 2463245 3405150 6075748    8169    8170 7715968\n",
      " 4194945]\n",
      "[5348314 7611760 5744275 7568880 6351014 1999800 2985753 1397870 5608949\n",
      " 7457681]\n",
      "[1163359 7544938 1826255 9199161  417714 9295212 3691185 8404813 8976519\n",
      " 8772027]\n",
      "[6586317 2086131 2102987 7715595 6711055 2900064 7368979 9699604 6775518\n",
      " 8530661]\n",
      "[6279878 3022238 8227622 6956188 5735265 8739063 5283306 7077743 8016855\n",
      " 9119735]\n",
      "[6603523 7953611 9894824 9703850 8880012 9738560 7871203 8576123 8537227\n",
      "  603219]\n"
     ]
    }
   ],
   "source": [
    "print_metric(filename1, 0)\n",
    "print_stuff(filename1, 1)\n",
    "print_stuff(filename2, 1)"
   ]
  },
  {
   "cell_type": "code",
   "execution_count": null,
   "id": "aaca01ed-f1e5-42d6-a094-9b2874c21376",
   "metadata": {},
   "outputs": [],
   "source": []
  },
  {
   "cell_type": "code",
   "execution_count": null,
   "id": "16340684-c6c5-43cb-bcce-5e946389bd6d",
   "metadata": {},
   "outputs": [],
   "source": []
  }
 ],
 "metadata": {
  "kernelspec": {
   "display_name": "Python 3 (ipykernel)",
   "language": "python",
   "name": "python3"
  },
  "language_info": {
   "codemirror_mode": {
    "name": "ipython",
    "version": 3
   },
   "file_extension": ".py",
   "mimetype": "text/x-python",
   "name": "python",
   "nbconvert_exporter": "python",
   "pygments_lexer": "ipython3",
   "version": "3.10.0"
  }
 },
 "nbformat": 4,
 "nbformat_minor": 5
}
